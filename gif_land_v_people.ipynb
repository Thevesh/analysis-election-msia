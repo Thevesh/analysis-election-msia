{
 "cells": [
  {
   "cell_type": "code",
   "execution_count": null,
   "metadata": {},
   "outputs": [],
   "source": [
    "import pandas as pd\n",
    "import geopandas as gpd\n",
    "\n",
    "party_replace = {\n",
    "    'PARTI KEADILAN RAKYAT (PKR)': 'PAKATAN HARAPAN (PH)',\n",
    "    'PARTI TINDAKAN DEMOKRATIK (DAP)': 'PAKATAN HARAPAN (PH)',\n",
    "    'PARTI ISLAM SE MALAYSIA (PAS)': 'PERIKATAN NASIONAL (PN)',\n",
    "    'IKATAN DEMOKRATIK MALAYSIA (MUDA)': 'PAKATAN HARAPAN (PH)'\n",
    "}\n",
    "\n",
    "df = pd.read_csv('data/candidates_ge15.csv',usecols=['state','parlimen','party','result'])\n",
    "df = df[df.result == 1].drop('result',axis=1)\n",
    "df = df[~df.state.isin(['Sabah','Sarawak','W.P. Labuan'])] # to add East Msia, comment out this line\n",
    "df.party = df.party.map(party_replace).fillna(df.party)\n",
    "\n",
    "vf = pd.read_csv('data/voters_ge15.csv',usecols=['state','parlimen','total'])\\\n",
    "    .rename(columns={'total':'voters'})\\\n",
    "        .groupby(['state','parlimen'])\\\n",
    "            .sum().reset_index()\n",
    "\n",
    "\n",
    "df = pd.merge(df,vf,on=['state','parlimen'],how='left')\n",
    "assert len(df[df.voters.isnull()]) == 0, 'Missing data!' # ensure complete merge\n",
    "\n",
    "a, b = 1,300\n",
    "x, y = df.voters.min(), df.voters.max()\n",
    "df['voters_scaled'] = (df.voters - x) / (y - x) * (b - a) + a\n",
    "df['batch'] = (df.index/2).astype(int)\n",
    "\n",
    "geo = gpd.read_file('maps/parlimen.geojson')\n",
    "geo = geo[~geo.code_state.isin([12, 13, 15])]\n",
    "# geo.loc[~geo.code_state.isin([12, 13, 15]), 'geometry'] = geo.geometry.translate(9, 4.5)  # to add East Msia, uncomment this line, comment out the line above \n",
    "geo = pd.merge(geo, df, on=['state','parlimen'], how='left')  # Merge with election results\n",
    "assert len(geo[geo.voters.isnull()]) == 0, 'Missing data!' # ensure complete merge\n",
    "geo_s = geo.copy().dissolve(by='state')\n",
    "geo['centre'] = geo['geometry'].centroid"
   ]
  },
  {
   "cell_type": "code",
   "execution_count": null,
   "metadata": {},
   "outputs": [],
   "source": [
    "import matplotlib.pyplot as plt\n",
    "from matplotlib import colors\n",
    "\n",
    "import warnings\n",
    "warnings.filterwarnings('ignore')\n",
    "\n",
    "party_color = { # colors from SPR dashboard\n",
    "    'PAKATAN HARAPAN (PH)':'#d7292f',\n",
    "    'PERIKATAN NASIONAL (PN)':'#6cb332',\n",
    "    'BARISAN NASIONAL (BN)':'#031a93',\n",
    "    'GABUNGAN PARTI SARAWAK (GPS)': '#1f2c45',\n",
    "    'PARTI WARISAN SABAH (WARISAN)': '#5bc5f0',\n",
    "    'PARTI GABUNGAN RAKYAT SABAH (GRS)': '#5bc5f0',\n",
    "    'BEBAS (BEBAS)': '#000000', \n",
    "    'PARTI KESEJAHTERAAN DEMOKRATIK MASYARAKAT (KDM)': '#000000',\n",
    "    'PARTI BANGSA MALAYSIA (PBM)': '#000000'\n",
    "}\n",
    "\n",
    "for b in range(df.batch.max()+2): # we need +2 because of zero-indexing and the first inequality\n",
    "    print(b)\n",
    "    plt.rcParams.update({'font.size': 13,\n",
    "                    'font.family': 'sans-serif',\n",
    "                    'grid.linestyle': 'dotted',\n",
    "                    'figure.figsize': [10,10],\n",
    "                    'figure.autolayout': True})\n",
    "    fig, ax = plt.subplots()\n",
    "    ax.axis('off')\n",
    "    \n",
    "    for p in list(party_color.keys())[:3]: # use the full list if you wanna do East Msia too\n",
    "        geo[(geo.party == p) & (geo.batch < b)]['centre'].plot(color=party_color[p], markersize=df[df.party == p]['voters_scaled'].tolist(), alpha=0.9, ax=ax)\n",
    "        geo[(geo.party == p) & (geo.batch >= b)].plot(facecolor=party_color[p], linewidth=0.07, edgecolor='black', ax=ax, legend=True)\n",
    "    geo.plot(edgecolor='black', linewidth=0.07, facecolor='none', ax=ax)\n",
    "    geo_s.plot(edgecolor='black', linewidth=0.5, facecolor='none', ax=ax)\n",
    "    plt.suptitle(f'Land doesn\\'t vote, people do: Malaysia GE15 Edition\\n\\nBubble sizes are proportional to number of voters\\n\\nCharts: @thevesh on Twitter')\n",
    "    plt.savefig(f'gif_land_v_people/chart_{b:02d}.png', bbox_inches='tight', pad_inches=0.2, dpi=400)\n",
    "    plt.close()"
   ]
  }
 ],
 "metadata": {
  "kernelspec": {
   "display_name": "analysis-election-msia",
   "language": "python",
   "name": "python3"
  },
  "language_info": {
   "codemirror_mode": {
    "name": "ipython",
    "version": 3
   },
   "file_extension": ".py",
   "mimetype": "text/x-python",
   "name": "python",
   "nbconvert_exporter": "python",
   "pygments_lexer": "ipython3",
   "version": "3.9.6"
  },
  "orig_nbformat": 4,
  "vscode": {
   "interpreter": {
    "hash": "dcd96e106f2e6611f121daf1ba8763d8784eceaaa75b801360cc3df352184927"
   }
  }
 },
 "nbformat": 4,
 "nbformat_minor": 2
}

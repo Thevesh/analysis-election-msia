{
 "cells": [
  {
   "cell_type": "code",
   "execution_count": 6,
   "metadata": {},
   "outputs": [
    {
     "data": {
      "text/plain": [
       "15613152"
      ]
     },
     "execution_count": 6,
     "metadata": {},
     "output_type": "execute_result"
    }
   ],
   "source": [
    "import pandas as pd\n",
    "import geopandas as gpd\n",
    "\n",
    "party_replace = {\n",
    "    'PARTI KEADILAN RAKYAT (PKR)': 'PAKATAN HARAPAN (PH)',\n",
    "    'PARTI TINDAKAN DEMOKRATIK (DAP)': 'PAKATAN HARAPAN (PH)',\n",
    "    'PARTI ISLAM SE MALAYSIA (PAS)': 'PERIKATAN NASIONAL (PN)',\n",
    "    'IKATAN DEMOKRATIK MALAYSIA (MUDA)': 'PAKATAN HARAPAN (PH)'\n",
    "}\n",
    "\n",
    "df = pd.read_csv('data/candidates_ge15.csv',usecols=['state','parlimen','party','result','votes'])\n",
    "votes_total = df.votes.sum()\n",
    "df = df[df.result == 1].drop('result',axis=1)\n",
    "df.party = df.party.map(party_replace).fillna(df.party)\n",
    "df.party = df.party.str.extract(r'\\((\\w+)\\)')\n",
    "\n",
    "vf = pd.read_csv('data/voters_ge15.csv',usecols=['state','parlimen','total'])\\\n",
    "    .rename(columns={'total':'voters'})\\\n",
    "        .groupby(['state','parlimen'])\\\n",
    "            .sum().reset_index()\n",
    "\n",
    "votes_total\n",
    "# mf = mf.groupby('party').size().to_frame('seats').reset_index()"
   ]
  }
 ],
 "metadata": {
  "kernelspec": {
   "display_name": "analysis-election-msia",
   "language": "python",
   "name": "python3"
  },
  "language_info": {
   "codemirror_mode": {
    "name": "ipython",
    "version": 3
   },
   "file_extension": ".py",
   "mimetype": "text/x-python",
   "name": "python",
   "nbconvert_exporter": "python",
   "pygments_lexer": "ipython3",
   "version": "3.9.6"
  },
  "orig_nbformat": 4,
  "vscode": {
   "interpreter": {
    "hash": "dcd96e106f2e6611f121daf1ba8763d8784eceaaa75b801360cc3df352184927"
   }
  }
 },
 "nbformat": 4,
 "nbformat_minor": 2
}
